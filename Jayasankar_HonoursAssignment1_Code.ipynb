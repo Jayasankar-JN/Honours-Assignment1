{
  "nbformat": 4,
  "nbformat_minor": 0,
  "metadata": {
    "colab": {
      "name": "Jayasankar_HonoursAssignment1-Code.ipynb",
      "provenance": []
    },
    "kernelspec": {
      "name": "python3",
      "display_name": "Python 3"
    },
    "language_info": {
      "name": "python"
    }
  },
  "cells": [
    {
      "cell_type": "markdown",
      "source": [
        ""
      ],
      "metadata": {
        "id": "TsAamln55SJ5"
      }
    },
    {
      "cell_type": "markdown",
      "source": [
        "**Jayasankar J N**  <br />\n",
        "S5 CSE <br /> Roll No: 39 <br /> TVE19CS039"
      ],
      "metadata": {
        "id": "iNqZVieawtho"
      }
    },
    {
      "cell_type": "markdown",
      "source": [
        "Loading the data and splitting it into train and test sets"
      ],
      "metadata": {
        "id": "EGH-N7DmheSk"
      }
    },
    {
      "cell_type": "code",
      "source": [
        "import tensorflow as tf\n",
        "\n",
        "mnist = tf.keras.datasets.mnist\n",
        "(x_train, y_train), (x_test, y_test) = mnist.load_data()\n",
        "\n",
        "# x_train: (60000, 28, 28)\n",
        "# y_train: (10000, 28, 28)\n",
        "\n",
        "x_train, x_test = x_train / 255, x_test / 255"
      ],
      "metadata": {
        "id": "pZ0xBZXJLsW-",
        "colab": {
          "base_uri": "https://localhost:8080/"
        },
        "outputId": "70266518-d44c-4549-fd23-25fd3ddef2d3"
      },
      "execution_count": 1,
      "outputs": [
        {
          "output_type": "stream",
          "name": "stdout",
          "text": [
            "Downloading data from https://storage.googleapis.com/tensorflow/tf-keras-datasets/mnist.npz\n",
            "11493376/11490434 [==============================] - 0s 0us/step\n",
            "11501568/11490434 [==============================] - 0s 0us/step\n"
          ]
        }
      ]
    },
    {
      "cell_type": "markdown",
      "source": [
        "# Model 1\n",
        "Here the layers are: 1 input layer having 784 neurons, 1 hidden layer having 25 units and 1 output layers having 10 units (10 classes). The count of total parameters is 19885 which is much less than the training size of 60000.\n",
        "Hidden layer uses 'ReLU' activation function and output layers uses softmax.\n",
        "Model is trained for 5 epochs."
      ],
      "metadata": {
        "id": "sJHOE8D4i0AQ"
      }
    },
    {
      "cell_type": "code",
      "source": [
        "model1 = tf.keras.models.Sequential([\n",
        "  tf.keras.layers.Flatten(input_shape=(28, 28)),\n",
        "  tf.keras.layers.Dense(25, activation='relu'),\n",
        "  tf.keras.layers.Dense(10, activation='softmax')\n",
        "])\n",
        "\n",
        "loss_fn = tf.keras.losses.SparseCategoricalCrossentropy()\n",
        "\n",
        "model1.compile(optimizer='adam', loss=loss_fn, metrics=['accuracy'])\n",
        "model1.summary()\n",
        "\n",
        "print(\"Training...\")\n",
        "model1.fit(x_train, y_train, epochs=5)\n",
        "\n",
        "print(\"Testing...\")\n",
        "model1.evaluate(x_test, y_test)"
      ],
      "metadata": {
        "colab": {
          "base_uri": "https://localhost:8080/"
        },
        "id": "7SFmt31VS9KR",
        "outputId": "447b26f0-84f3-48c7-f13a-09b746f684e1"
      },
      "execution_count": 9,
      "outputs": [
        {
          "output_type": "stream",
          "name": "stdout",
          "text": [
            "Model: \"sequential_7\"\n",
            "_________________________________________________________________\n",
            " Layer (type)                Output Shape              Param #   \n",
            "=================================================================\n",
            " flatten_7 (Flatten)         (None, 784)               0         \n",
            "                                                                 \n",
            " dense_14 (Dense)            (None, 25)                19625     \n",
            "                                                                 \n",
            " dense_15 (Dense)            (None, 10)                260       \n",
            "                                                                 \n",
            "=================================================================\n",
            "Total params: 19,885\n",
            "Trainable params: 19,885\n",
            "Non-trainable params: 0\n",
            "_________________________________________________________________\n",
            "Training...\n",
            "Epoch 1/5\n",
            "1875/1875 [==============================] - 4s 2ms/step - loss: 0.3805 - accuracy: 0.8934\n",
            "Epoch 2/5\n",
            "1875/1875 [==============================] - 4s 2ms/step - loss: 0.2306 - accuracy: 0.9349\n",
            "Epoch 3/5\n",
            "1875/1875 [==============================] - 4s 2ms/step - loss: 0.1920 - accuracy: 0.9445\n",
            "Epoch 4/5\n",
            "1875/1875 [==============================] - 4s 2ms/step - loss: 0.1653 - accuracy: 0.9518\n",
            "Epoch 5/5\n",
            "1875/1875 [==============================] - 4s 2ms/step - loss: 0.1455 - accuracy: 0.9575\n",
            "Testing...\n",
            "313/313 [==============================] - 1s 2ms/step - loss: 0.1507 - accuracy: 0.9517\n"
          ]
        },
        {
          "output_type": "execute_result",
          "data": {
            "text/plain": [
              "[0.1507243663072586, 0.95169997215271]"
            ]
          },
          "metadata": {},
          "execution_count": 9
        }
      ]
    },
    {
      "cell_type": "markdown",
      "source": [
        "Model 1:\n",
        "\n",
        "*   Number of epochs = 5 \n",
        "*   Training Accuracy = 0.9575\n",
        "*   Test Accuray = 0.9517\n",
        "\n",
        "\n"
      ],
      "metadata": {
        "id": "t7x6c8J-h2Z7"
      }
    },
    {
      "cell_type": "markdown",
      "source": [
        "# Model 2\n",
        "\n",
        "Layers are: 1 input layer having 784 neurons, 2 hidden layers, one having 64 units and other having 32 units and 1 output layers having 10 units (10 classes).The count of total parameters is 52650 which is really close to the training size of 60000, so there is high chance that this model will suffer from overfitting.\n",
        "Hidden layers uses 'ReLU' activation function and output layers uses softmax.\n",
        "Model is trained for 20 epochs."
      ],
      "metadata": {
        "id": "rsGqQVpmlyqK"
      }
    },
    {
      "cell_type": "code",
      "source": [
        "model2 = tf.keras.models.Sequential([\n",
        "  tf.keras.layers.Flatten(input_shape=(28, 28)),\n",
        "  tf.keras.layers.Dense(64, activation='relu'),\n",
        "  tf.keras.layers.Dense(32, activation='relu'),\n",
        "  tf.keras.layers.Dense(10, activation='softmax')\n",
        "])\n",
        "\n",
        "loss_fn = tf.keras.losses.SparseCategoricalCrossentropy()\n",
        "\n",
        "model2.compile(optimizer='adam', loss=loss_fn, metrics=['accuracy'])\n",
        "model2.summary()\n",
        "\n",
        "print(\"Training...\")\n",
        "model1.fit(x_train, y_train, epochs=20)\n",
        "\n",
        "print(\"Testing...\")\n",
        "model1.evaluate(x_test, y_test)"
      ],
      "metadata": {
        "colab": {
          "base_uri": "https://localhost:8080/"
        },
        "id": "LHqbOgi8Uk9R",
        "outputId": "be9d294a-82aa-4b9a-d1bd-2dde6e817f8b"
      },
      "execution_count": 14,
      "outputs": [
        {
          "output_type": "stream",
          "name": "stdout",
          "text": [
            "Model: \"sequential_12\"\n",
            "_________________________________________________________________\n",
            " Layer (type)                Output Shape              Param #   \n",
            "=================================================================\n",
            " flatten_12 (Flatten)        (None, 784)               0         \n",
            "                                                                 \n",
            " dense_28 (Dense)            (None, 64)                50240     \n",
            "                                                                 \n",
            " dense_29 (Dense)            (None, 32)                2080      \n",
            "                                                                 \n",
            " dense_30 (Dense)            (None, 10)                330       \n",
            "                                                                 \n",
            "=================================================================\n",
            "Total params: 52,650\n",
            "Trainable params: 52,650\n",
            "Non-trainable params: 0\n",
            "_________________________________________________________________\n",
            "Training...\n",
            "Epoch 1/20\n",
            "1875/1875 [==============================] - 4s 2ms/step - loss: 0.0362 - accuracy: 0.9883\n",
            "Epoch 2/20\n",
            "1875/1875 [==============================] - 4s 2ms/step - loss: 0.0344 - accuracy: 0.9891\n",
            "Epoch 3/20\n",
            "1875/1875 [==============================] - 4s 2ms/step - loss: 0.0354 - accuracy: 0.9883\n",
            "Epoch 4/20\n",
            "1875/1875 [==============================] - 4s 2ms/step - loss: 0.0340 - accuracy: 0.9889\n",
            "Epoch 5/20\n",
            "1875/1875 [==============================] - 4s 2ms/step - loss: 0.0323 - accuracy: 0.9898\n",
            "Epoch 6/20\n",
            "1875/1875 [==============================] - 4s 2ms/step - loss: 0.0318 - accuracy: 0.9899\n",
            "Epoch 7/20\n",
            "1875/1875 [==============================] - 4s 2ms/step - loss: 0.0307 - accuracy: 0.9899\n",
            "Epoch 8/20\n",
            "1875/1875 [==============================] - 4s 2ms/step - loss: 0.0299 - accuracy: 0.9905\n",
            "Epoch 9/20\n",
            "1875/1875 [==============================] - 4s 2ms/step - loss: 0.0286 - accuracy: 0.9905\n",
            "Epoch 10/20\n",
            "1875/1875 [==============================] - 4s 2ms/step - loss: 0.0294 - accuracy: 0.9908\n",
            "Epoch 11/20\n",
            "1875/1875 [==============================] - 4s 2ms/step - loss: 0.0275 - accuracy: 0.9911\n",
            "Epoch 12/20\n",
            "1875/1875 [==============================] - 4s 2ms/step - loss: 0.0279 - accuracy: 0.9912\n",
            "Epoch 13/20\n",
            "1875/1875 [==============================] - 4s 2ms/step - loss: 0.0257 - accuracy: 0.9918\n",
            "Epoch 14/20\n",
            "1875/1875 [==============================] - 4s 2ms/step - loss: 0.0262 - accuracy: 0.9914\n",
            "Epoch 15/20\n",
            "1875/1875 [==============================] - 4s 2ms/step - loss: 0.0253 - accuracy: 0.9918\n",
            "Epoch 16/20\n",
            "1875/1875 [==============================] - 4s 2ms/step - loss: 0.0249 - accuracy: 0.9921\n",
            "Epoch 17/20\n",
            "1875/1875 [==============================] - 4s 2ms/step - loss: 0.0235 - accuracy: 0.9924\n",
            "Epoch 18/20\n",
            "1875/1875 [==============================] - 4s 2ms/step - loss: 0.0231 - accuracy: 0.9928\n",
            "Epoch 19/20\n",
            "1875/1875 [==============================] - 4s 2ms/step - loss: 0.0235 - accuracy: 0.9926\n",
            "Epoch 20/20\n",
            "1875/1875 [==============================] - 4s 2ms/step - loss: 0.0230 - accuracy: 0.9927\n",
            "Testing...\n",
            "313/313 [==============================] - 1s 2ms/step - loss: 0.2085 - accuracy: 0.9607\n"
          ]
        },
        {
          "output_type": "execute_result",
          "data": {
            "text/plain": [
              "[0.2084774374961853, 0.9606999754905701]"
            ]
          },
          "metadata": {},
          "execution_count": 14
        }
      ]
    },
    {
      "cell_type": "markdown",
      "source": [
        "Model 2:\n",
        "\n",
        "*   Number of epochs = 20\n",
        "*   Training Accuracy = 0.9927\n",
        "*   Test Accuray = 0.9607\n"
      ],
      "metadata": {
        "id": "c06uryjTmiKr"
      }
    }
  ]
}